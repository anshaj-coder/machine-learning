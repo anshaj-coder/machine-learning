{
  "nbformat": 4,
  "nbformat_minor": 0,
  "metadata": {
    "colab": {
      "provenance": [],
      "authorship_tag": "ABX9TyPQ1Pul5d0MIHMVQ2MOuQHw",
      "include_colab_link": true
    },
    "kernelspec": {
      "name": "python3",
      "display_name": "Python 3"
    },
    "language_info": {
      "name": "python"
    }
  },
  "cells": [
    {
      "cell_type": "markdown",
      "metadata": {
        "id": "view-in-github",
        "colab_type": "text"
      },
      "source": [
        "<a href=\"https://colab.research.google.com/github/anshaj-coder/linear-regression/blob/main/KNN.ipynb\" target=\"_parent\"><img src=\"https://colab.research.google.com/assets/colab-badge.svg\" alt=\"Open In Colab\"/></a>"
      ]
    },
    {
      "cell_type": "code",
      "execution_count": 5,
      "metadata": {
        "colab": {
          "base_uri": "https://localhost:8080/"
        },
        "id": "jLRRw6kXl0eu",
        "outputId": "e5d11ded-2ae5-4171-f563-26813505e846"
      },
      "outputs": [
        {
          "output_type": "stream",
          "name": "stdout",
          "text": [
            "How many points do you want to predict? 3\n",
            "Point 1 - first feature: 1\n",
            "Point 1 - second feature: 2\n",
            "Point 2 - first feature: 5\n",
            "Point 2 - second feature: 6\n",
            "Point 3 - first feature: 7\n",
            "Point 3 - second feature: 5\n",
            "Point 1 predicted class: 1\n",
            "Point 2 predicted class: 1\n",
            "Point 3 predicted class: 1\n"
          ]
        }
      ],
      "source": [
        "# KNN Classifier\n",
        "\n",
        "from sklearn.neighbors import KNeighborsClassifier\n",
        "\n",
        "\n",
        "X = [[0,0], [0,1], [1,0], [1,1], [2,2], [2,1]]\n",
        "y = [0, 0, 0, 1, 1, 1]\n",
        "\n",
        "\n",
        "knn = KNeighborsClassifier(n_neighbors=3)\n",
        "knn.fit(X, y)\n",
        "\n",
        "\n",
        "num_points = int(input(\"How many points do you want to predict? \"))\n",
        "user_points = []\n",
        "for i in range(num_points):\n",
        "    a = float(input(f\"Point {i+1} - first feature: \"))\n",
        "    b = float(input(f\"Point {i+1} - second feature: \"))\n",
        "    user_points.append([a, b])\n",
        "\n",
        "\n",
        "predictions = knn.predict(user_points)\n",
        "\n",
        "\n",
        "for i, pred in enumerate(predictions):\n",
        "    print(f\"Point {i+1} predicted class: {pred}\")\n",
        "\n"
      ]
    }
  ]
}